{
 "cells": [
  {
   "cell_type": "markdown",
   "id": "01892316",
   "metadata": {
    "toc": true
   },
   "source": [
    "<h1>Table of Contents<span class=\"tocSkip\"></span></h1>\n",
    "<div class=\"toc\"><ul class=\"toc-item\"><li><span><a href=\"#Описание-проекта\" data-toc-modified-id=\"Описание-проекта-1\"><span class=\"toc-item-num\">1&nbsp;&nbsp;</span>Описание проекта</a></span></li><li><span><a href=\"#Collecting-to-Data\" data-toc-modified-id=\"Collecting-to-Data-2\"><span class=\"toc-item-num\">2&nbsp;&nbsp;</span>Collecting to Data</a></span></li><li><span><a href=\"#Data-Cleaning\" data-toc-modified-id=\"Data-Cleaning-3\"><span class=\"toc-item-num\">3&nbsp;&nbsp;</span>Data Cleaning</a></span></li><li><span><a href=\"#Analyzing-the-Data\" data-toc-modified-id=\"Analyzing-the-Data-4\"><span class=\"toc-item-num\">4&nbsp;&nbsp;</span>Analyzing the Data</a></span></li><li><span><a href=\"#Interpreting-The-Results\" data-toc-modified-id=\"Interpreting-The-Results-5\"><span class=\"toc-item-num\">5&nbsp;&nbsp;</span>Interpreting The Results</a></span></li></ul></div>"
   ]
  },
  {
   "cell_type": "markdown",
   "id": "d465cf24",
   "metadata": {},
   "source": [
    "## Описание проекта"
   ]
  },
  {
   "cell_type": "code",
   "execution_count": 1,
   "id": "5709bc6a",
   "metadata": {},
   "outputs": [],
   "source": [
    "# import lib"
   ]
  },
  {
   "attachments": {},
   "cell_type": "markdown",
   "id": "97cfca53",
   "metadata": {},
   "source": [
    "## Collecting the Data"
   ]
  },
  {
   "cell_type": "markdown",
   "id": "8633f513",
   "metadata": {},
   "source": [
    "## Data Cleaning"
   ]
  },
  {
   "cell_type": "markdown",
   "id": "9b871d27",
   "metadata": {},
   "source": [
    "## Analyzing the Data"
   ]
  },
  {
   "cell_type": "markdown",
   "id": "d053d715",
   "metadata": {},
   "source": [
    "## Interpreting The Results"
   ]
  },
  {
   "cell_type": "code",
   "execution_count": null,
   "id": "55ef6c39",
   "metadata": {},
   "outputs": [],
   "source": []
  }
 ],
 "metadata": {
  "kernelspec": {
   "display_name": "Python 3 (ipykernel)",
   "language": "python",
   "name": "python3"
  },
  "language_info": {
   "codemirror_mode": {
    "name": "ipython",
    "version": 3
   },
   "file_extension": ".py",
   "mimetype": "text/x-python",
   "name": "python",
   "nbconvert_exporter": "python",
   "pygments_lexer": "ipython3",
   "version": "3.9.12"
  },
  "toc": {
   "base_numbering": 1,
   "nav_menu": {},
   "number_sections": true,
   "sideBar": true,
   "skip_h1_title": false,
   "title_cell": "Table of Contents",
   "title_sidebar": "Contents",
   "toc_cell": true,
   "toc_position": {},
   "toc_section_display": true,
   "toc_window_display": true
  }
 },
 "nbformat": 4,
 "nbformat_minor": 5
}
